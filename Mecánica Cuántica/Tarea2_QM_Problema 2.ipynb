{
 "cells": [
  {
   "cell_type": "code",
   "execution_count": 18,
   "metadata": {},
   "outputs": [],
   "source": [
    "#Se importan las librerías necesarias\n",
    "#Matplotlib para gráficos\n",
    "#Numpy para algunas situaciones matemáticas \n",
    "#De scipy.constants se importa la constante de Planck\n",
    "#De scipy.integrate se importa quad para poder resolver las ecuaciones \n",
    "\n",
    "from ipywidgets import interactive\n",
    "import ipywidgets as widgets\n",
    "from IPython.display import display\n",
    "\n",
    "import numpy as np\n",
    "import matplotlib.pyplot as plt\n",
    "from scipy.constants import h\n",
    "from scipy.integrate import quad\n",
    "\n"
   ]
  },
  {
   "cell_type": "code",
   "execution_count": 19,
   "metadata": {},
   "outputs": [],
   "source": [
    "\"\"\"\n",
    "Función Calculo_integral: encargada de calcular la integral que se encuentra en la función de onda que se desea representar\n",
    "    Entradas: \n",
    "        x: valor de posición\n",
    "        t=valor de tiempo\n",
    "        a= constante real y positiva\n",
    "        m=masa de la partícula\n",
    "    Salidas: \n",
    "        resultado_int=resultado de la integral \n",
    "\"\"\"\n",
    "def Calculo_integral(x,t,a,m):\n",
    "    h_cortado= h/(2*np.pi)\n",
    "    imagi=1j\n",
    "    f= lambda k: np.exp(-k**2/(4*a)) * np.exp(imagi*(k*x-(h_cortado*k**2 *t)/(2*m)))\n",
    "    resultado_int,error=quad(f,np.NINF, np.Inf)\n",
    "    return resultado_int"
   ]
  },
  {
   "cell_type": "code",
   "execution_count": 20,
   "metadata": {},
   "outputs": [],
   "source": [
    "\"\"\"\n",
    "Función Psi : Encargada de calcular el valor de la función de onda\n",
    "    Entradas:\n",
    "        x: valor de posición\n",
    "        t=valor de tiempo\n",
    "        a= constante real y positiva\n",
    "        m=masa de la partícula\n",
    "    Salidas:\n",
    "        resultado=valor de la función de onda\n",
    "\"\"\"\n",
    "def Psi(x,t,a,m):\n",
    "    resultado= (1/(np.sqrt(2*np.pi))) * (1/((2*np.pi*a)**(1/4))) * Calculo_integral(x,t,a,m)\n",
    "    return resultado\n"
   ]
  },
  {
   "cell_type": "code",
   "execution_count": 21,
   "metadata": {},
   "outputs": [],
   "source": [
    "\"\"\"\n",
    "Función Grafico: encargada de ejecutar la función Psi para todos los valores de posición deseados, en ella se ajusta el valor de t deseado\n",
    "además ejecuta el gráfico deseado\n",
    "    Entradas:\n",
    "        Ninguna\n",
    "    Salidas:\n",
    "        Muestra el gráfico de posición contra la función de onda.\n",
    "\"\"\"\n",
    "def Grafico(limite_posicion,tiempo,a):\n",
    "    division_espacio = 30\n",
    "    m=1.67*10**(-27)\n",
    "    X = np.linspace(0, limite_posicion, division_espacio)\n",
    "    funcion_onda=[]\n",
    "    for i in X:\n",
    "        funcion_onda.append(Psi(i,tiempo,a,m))\n",
    "    fig,ax=plt.subplots(dpi=120)\n",
    "    ax.plot(X, funcion_onda,\"b\")\n",
    "    ax.set_title(\"Función de onda para una partícula libre\")\n",
    "    ax.set_xlabel(\"Posición\")\n",
    "    ax.set_ylabel(\"Función de onda\")\n",
    "    plt.show()"
   ]
  },
  {
   "cell_type": "code",
   "execution_count": 42,
   "metadata": {},
   "outputs": [
    {
     "data": {
      "application/vnd.jupyter.widget-view+json": {
       "model_id": "e195d696494f4a7a9728253563b63fc6",
       "version_major": 2,
       "version_minor": 0
      },
      "text/plain": [
       "interactive(children=(IntSlider(value=0, description='Valor de posición máxima: ', max=10), IntSlider(value=0,…"
      ]
     },
     "metadata": {},
     "output_type": "display_data"
    }
   ],
   "source": [
    "mostrar_grafico=interactive(Grafico, limite_posicion=widgets.IntSlider(min=0, max=10.0, step=1,value=0,description=\"Valor de posición máxima: \" ),\n",
    "                           tiempo=widgets.IntSlider(min=0.1,max=10.0, step=1.0, value=0.1, description=\"Tiempo máximo: \"),\n",
    "                           a=widgets.IntSlider(min=1, max=10, step=1, value=1, description=\"Valor de la constante a: \"))  \n",
    "display(mostrar_grafico)"
   ]
  },
  {
   "cell_type": "code",
   "execution_count": null,
   "metadata": {},
   "outputs": [],
   "source": []
  }
 ],
 "metadata": {
  "kernelspec": {
   "display_name": "Python 3",
   "language": "python",
   "name": "python3"
  },
  "language_info": {
   "codemirror_mode": {
    "name": "ipython",
    "version": 3
   },
   "file_extension": ".py",
   "mimetype": "text/x-python",
   "name": "python",
   "nbconvert_exporter": "python",
   "pygments_lexer": "ipython3",
   "version": "3.8.5"
  }
 },
 "nbformat": 4,
 "nbformat_minor": 4
}
